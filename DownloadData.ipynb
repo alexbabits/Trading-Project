{
 "cells": [
  {
   "cell_type": "code",
   "execution_count": 1,
   "metadata": {},
   "outputs": [],
   "source": [
    "import time\n",
    "import requests\n",
    "import json\n",
    "import pandas as pd\n",
    "import yfinance as yf"
   ]
  },
  {
   "attachments": {},
   "cell_type": "markdown",
   "metadata": {},
   "source": [
    "Download bulk data from binance (if needed)"
   ]
  },
  {
   "cell_type": "code",
   "execution_count": null,
   "metadata": {},
   "outputs": [],
   "source": [
    "# Use free 'ProtonVPN' if IP not outside USA (required for binance API). \n",
    "# ****DO NOT RUN UNLESS YOU WANT TO DOWNLOAD NEW DATA****\n",
    "\n",
    "interval = '5m'\n",
    "symbol = 'ETHUSDT'\n",
    "limit = 1000\n",
    "# number of: (months * days * hours * minutes * seconds) * miliseconds. Right now this is 30 months of data.\n",
    "start_time = int((time.time() - 30 * 30 * 24 * 60 * 60) * 1000)\n",
    "candle_data = []\n",
    "\n",
    "while True:\n",
    "    url = f'https://api.binance.com/api/v3/klines?symbol={symbol}&interval={interval}&limit={limit}&startTime={start_time}'\n",
    "    request = requests.get(url)\n",
    "    data = request.json()\n",
    "\n",
    "    if len(data) == 0:  \n",
    "        break\n",
    "\n",
    "    candle_data += data\n",
    "    start_time = data[-1][0] + 1\n",
    "    time.sleep(0.1)\n",
    "\n",
    "with open(f'{symbol}.json', 'w') as f:\n",
    "    json.dump(candle_data, f)\n",
    "\n",
    "df = pd.DataFrame(candle_data, columns=['Open time', 'Open', 'High', 'Low', 'Close', 'Volume', 'Close time', 'Quote asset volume', 'Number of trades', 'Taker buy base', 'Taker buy quote', 'Ignore'])\n",
    "df['Open time'] = pd.to_datetime(df['Open time'], unit='ms')\n",
    "df['Close time'] = pd.to_datetime(df['Close time'], unit='ms')\n",
    "df.to_csv(f'{symbol}.csv', index=False)"
   ]
  },
  {
   "attachments": {},
   "cell_type": "markdown",
   "metadata": {},
   "source": [
    "SP500 benchmark download (daily)"
   ]
  },
  {
   "cell_type": "code",
   "execution_count": 8,
   "metadata": {},
   "outputs": [
    {
     "name": "stdout",
     "output_type": "stream",
     "text": [
      "[*********************100%***********************]  1 of 1 completed\n"
     ]
    },
    {
     "data": {
      "text/html": [
       "<div>\n",
       "<style scoped>\n",
       "    .dataframe tbody tr th:only-of-type {\n",
       "        vertical-align: middle;\n",
       "    }\n",
       "\n",
       "    .dataframe tbody tr th {\n",
       "        vertical-align: top;\n",
       "    }\n",
       "\n",
       "    .dataframe thead th {\n",
       "        text-align: right;\n",
       "    }\n",
       "</style>\n",
       "<table border=\"1\" class=\"dataframe\">\n",
       "  <thead>\n",
       "    <tr style=\"text-align: right;\">\n",
       "      <th></th>\n",
       "      <th>date</th>\n",
       "      <th>open</th>\n",
       "      <th>high</th>\n",
       "      <th>low</th>\n",
       "      <th>close</th>\n",
       "      <th>volume</th>\n",
       "    </tr>\n",
       "  </thead>\n",
       "  <tbody>\n",
       "    <tr>\n",
       "      <th>0</th>\n",
       "      <td>2013-06-18</td>\n",
       "      <td>1639.770020</td>\n",
       "      <td>1654.189941</td>\n",
       "      <td>1639.770020</td>\n",
       "      <td>1651.810059</td>\n",
       "      <td>3120980000</td>\n",
       "    </tr>\n",
       "    <tr>\n",
       "      <th>1</th>\n",
       "      <td>2013-06-19</td>\n",
       "      <td>1651.829956</td>\n",
       "      <td>1652.449951</td>\n",
       "      <td>1628.910034</td>\n",
       "      <td>1628.930054</td>\n",
       "      <td>3545060000</td>\n",
       "    </tr>\n",
       "    <tr>\n",
       "      <th>2</th>\n",
       "      <td>2013-06-20</td>\n",
       "      <td>1624.619995</td>\n",
       "      <td>1624.619995</td>\n",
       "      <td>1584.319946</td>\n",
       "      <td>1588.189941</td>\n",
       "      <td>4858850000</td>\n",
       "    </tr>\n",
       "    <tr>\n",
       "      <th>3</th>\n",
       "      <td>2013-06-21</td>\n",
       "      <td>1588.619995</td>\n",
       "      <td>1599.189941</td>\n",
       "      <td>1577.699951</td>\n",
       "      <td>1592.430054</td>\n",
       "      <td>5797280000</td>\n",
       "    </tr>\n",
       "    <tr>\n",
       "      <th>4</th>\n",
       "      <td>2013-06-24</td>\n",
       "      <td>1588.770020</td>\n",
       "      <td>1588.770020</td>\n",
       "      <td>1560.329956</td>\n",
       "      <td>1573.089966</td>\n",
       "      <td>4733660000</td>\n",
       "    </tr>\n",
       "  </tbody>\n",
       "</table>\n",
       "</div>"
      ],
      "text/plain": [
       "        date         open         high          low        close      volume\n",
       "0 2013-06-18  1639.770020  1654.189941  1639.770020  1651.810059  3120980000\n",
       "1 2013-06-19  1651.829956  1652.449951  1628.910034  1628.930054  3545060000\n",
       "2 2013-06-20  1624.619995  1624.619995  1584.319946  1588.189941  4858850000\n",
       "3 2013-06-21  1588.619995  1599.189941  1577.699951  1592.430054  5797280000\n",
       "4 2013-06-24  1588.770020  1588.770020  1560.329956  1573.089966  4733660000"
      ]
     },
     "execution_count": 8,
     "metadata": {},
     "output_type": "execute_result"
    }
   ],
   "source": [
    "sp500_df = yf.download(\"^GSPC\", start=\"2013-06-18\", end=\"2023-06-18\")\n",
    "sp500_df.reset_index(inplace=True)\n",
    "sp500_df.columns = sp500_df.columns.str.lower()\n",
    "sp500_df = sp500_df.drop('adj close', axis=1)\n",
    "sp500_df.to_csv('data/sp500_df.csv', index=False)\n",
    "sp500_df.head()"
   ]
  }
 ],
 "metadata": {
  "kernelspec": {
   "display_name": "myenv",
   "language": "python",
   "name": "myenv"
  },
  "language_info": {
   "codemirror_mode": {
    "name": "ipython",
    "version": 3
   },
   "file_extension": ".py",
   "mimetype": "text/x-python",
   "name": "python",
   "nbconvert_exporter": "python",
   "pygments_lexer": "ipython3",
   "version": "3.11.4"
  },
  "orig_nbformat": 4
 },
 "nbformat": 4,
 "nbformat_minor": 2
}
