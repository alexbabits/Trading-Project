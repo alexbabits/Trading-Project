{
 "cells": [
  {
   "cell_type": "code",
   "execution_count": null,
   "metadata": {},
   "outputs": [],
   "source": [
    "import time\n",
    "import requests\n",
    "import json\n",
    "import pandas as pd"
   ]
  },
  {
   "attachments": {},
   "cell_type": "markdown",
   "metadata": {},
   "source": [
    "Download bulk data from binance (if needed)"
   ]
  },
  {
   "cell_type": "code",
   "execution_count": null,
   "metadata": {},
   "outputs": [],
   "source": [
    "# Use free 'ProtonVPN' if IP not outside USA (required for binance API). \n",
    "# ****DO NOT RUN UNLESS YOU WANT TO DOWNLOAD NEW DATA****\n",
    "\n",
    "interval = '5m'\n",
    "symbol = 'ETHUSDT'\n",
    "limit = 1000\n",
    "# number of: (months * days * hours * minutes * seconds) * miliseconds. Right now this is 30 months of data.\n",
    "start_time = int((time.time() - 30 * 30 * 24 * 60 * 60) * 1000)\n",
    "candle_data = []\n",
    "\n",
    "while True:\n",
    "    url = f'https://api.binance.com/api/v3/klines?symbol={symbol}&interval={interval}&limit={limit}&startTime={start_time}'\n",
    "    request = requests.get(url)\n",
    "    data = request.json()\n",
    "\n",
    "    if len(data) == 0:  \n",
    "        break\n",
    "\n",
    "    candle_data += data\n",
    "    start_time = data[-1][0] + 1\n",
    "    time.sleep(0.1)\n",
    "\n",
    "with open(f'{symbol}.json', 'w') as f:\n",
    "    json.dump(candle_data, f)\n",
    "\n",
    "df = pd.DataFrame(candle_data, columns=['Open time', 'Open', 'High', 'Low', 'Close', 'Volume', 'Close time', 'Quote asset volume', 'Number of trades', 'Taker buy base', 'Taker buy quote', 'Ignore'])\n",
    "df['Open time'] = pd.to_datetime(df['Open time'], unit='ms')\n",
    "df['Close time'] = pd.to_datetime(df['Close time'], unit='ms')\n",
    "df.to_csv(f'{symbol}.csv', index=False)"
   ]
  }
 ],
 "metadata": {
  "language_info": {
   "name": "python"
  },
  "orig_nbformat": 4
 },
 "nbformat": 4,
 "nbformat_minor": 2
}
